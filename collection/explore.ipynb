{
 "cells": [
  {
   "cell_type": "code",
   "execution_count": 32,
   "metadata": {},
   "outputs": [],
   "source": [
    "import pandas as pd\n",
    "import matplotlib.pyplot as plt"
   ]
  },
  {
   "cell_type": "code",
   "execution_count": 33,
   "metadata": {},
   "outputs": [
    {
     "data": {
      "text/html": [
       "<div>\n",
       "<style scoped>\n",
       "    .dataframe tbody tr th:only-of-type {\n",
       "        vertical-align: middle;\n",
       "    }\n",
       "\n",
       "    .dataframe tbody tr th {\n",
       "        vertical-align: top;\n",
       "    }\n",
       "\n",
       "    .dataframe thead th {\n",
       "        text-align: right;\n",
       "    }\n",
       "</style>\n",
       "<table border=\"1\" class=\"dataframe\">\n",
       "  <thead>\n",
       "    <tr style=\"text-align: right;\">\n",
       "      <th></th>\n",
       "      <th>lat</th>\n",
       "      <th>lng</th>\n",
       "      <th>county</th>\n",
       "      <th>county_name</th>\n",
       "      <th>angle</th>\n",
       "    </tr>\n",
       "  </thead>\n",
       "  <tbody>\n",
       "    <tr>\n",
       "      <th>0</th>\n",
       "      <td>63.501095</td>\n",
       "      <td>10.963767</td>\n",
       "      <td>5</td>\n",
       "      <td>trøndelag</td>\n",
       "      <td>11.0</td>\n",
       "    </tr>\n",
       "    <tr>\n",
       "      <th>1</th>\n",
       "      <td>69.122734</td>\n",
       "      <td>17.315359</td>\n",
       "      <td>2</td>\n",
       "      <td>troms og finnmark</td>\n",
       "      <td>50.0</td>\n",
       "    </tr>\n",
       "    <tr>\n",
       "      <th>2</th>\n",
       "      <td>59.740894</td>\n",
       "      <td>10.419207</td>\n",
       "      <td>8</td>\n",
       "      <td>viken</td>\n",
       "      <td>316.0</td>\n",
       "    </tr>\n",
       "    <tr>\n",
       "      <th>3</th>\n",
       "      <td>58.329872</td>\n",
       "      <td>7.205114</td>\n",
       "      <td>0</td>\n",
       "      <td>agder</td>\n",
       "      <td>26.0</td>\n",
       "    </tr>\n",
       "    <tr>\n",
       "      <th>4</th>\n",
       "      <td>60.889412</td>\n",
       "      <td>5.469958</td>\n",
       "      <td>10</td>\n",
       "      <td>vestland</td>\n",
       "      <td>13.0</td>\n",
       "    </tr>\n",
       "  </tbody>\n",
       "</table>\n",
       "</div>"
      ],
      "text/plain": [
       "         lat        lng  county        county_name  angle\n",
       "0  63.501095  10.963767       5          trøndelag   11.0\n",
       "1  69.122734  17.315359       2  troms og finnmark   50.0\n",
       "2  59.740894  10.419207       8              viken  316.0\n",
       "3  58.329872   7.205114       0              agder   26.0\n",
       "4  60.889412   5.469958      10           vestland   13.0"
      ]
     },
     "execution_count": 33,
     "metadata": {},
     "output_type": "execute_result"
    }
   ],
   "source": [
    "df = pd.read_json('./data/deg_clean_coords.json')\n",
    "df.head()"
   ]
  },
  {
   "cell_type": "code",
   "execution_count": 41,
   "metadata": {},
   "outputs": [
    {
     "data": {
      "text/plain": [
       "troms og finnmark       0.199921\n",
       "innlandet               0.139709\n",
       "nordland                0.127745\n",
       "vestland                0.121448\n",
       "trøndelag               0.116804\n",
       "viken                   0.100433\n",
       "vestfold og telemark    0.053994\n",
       "møre og romsdal         0.051791\n",
       "rogaland                0.045100\n",
       "agder                   0.043054\n",
       "Name: county_name, dtype: float64"
      ]
     },
     "execution_count": 41,
     "metadata": {},
     "output_type": "execute_result"
    }
   ],
   "source": [
    "df['county_name'].value_counts() / df['county_name'].value_counts().sum()"
   ]
  },
  {
   "cell_type": "code",
   "execution_count": 35,
   "metadata": {},
   "outputs": [
    {
     "data": {
      "image/png": "[encoded data removed]",
      "text/plain": [
       "<Figure size 432x288 with 1 Axes>"
      ]
     },
     "metadata": {
      "needs_background": "light"
     },
     "output_type": "display_data"
    }
   ],
   "source": [
    "df['county_name'].value_counts().plot.barh()\n",
    "plt.show()"
   ]
  },
  {
   "cell_type": "code",
   "execution_count": 36,
   "metadata": {},
   "outputs": [],
   "source": [
    "df = df[df['county_name'] != 'oslo']"
   ]
  },
  {
   "cell_type": "code",
   "execution_count": 37,
   "metadata": {},
   "outputs": [
    {
     "data": {
      "text/plain": [
       "<AxesSubplot:>"
      ]
     },
     "execution_count": 37,
     "metadata": {},
     "output_type": "execute_result"
    },
    {
     "data": {
      "image/png": "[encoded data removed]",
      "text/plain": [
       "<Figure size 432x288 with 1 Axes>"
      ]
     },
     "metadata": {
      "needs_background": "light"
     },
     "output_type": "display_data"
    }
   ],
   "source": [
    "df['angle'].apply(lambda x: x-180 if x >= 180 else x).hist()"
   ]
  },
  {
   "cell_type": "code",
   "execution_count": 42,
   "metadata": {},
   "outputs": [
    {
     "data": {
      "text/plain": [
       "troms og finnmark       0.201102\n",
       "innlandet               0.133018\n",
       "nordland                0.132625\n",
       "vestland                0.123180\n",
       "trøndelag               0.119244\n",
       "viken                   0.101535\n",
       "møre og romsdal         0.052735\n",
       "vestfold og telemark    0.050374\n",
       "rogaland                0.045651\n",
       "agder                   0.040535\n",
       "Name: county_name, dtype: float64"
      ]
     },
     "execution_count": 42,
     "metadata": {},
     "output_type": "execute_result"
    }
   ],
   "source": [
    "import numpy as np\n",
    "\n",
    "tests = np.random.choice(range(len(df)), int(len(df)*.2), replace=False)\n",
    "test_df = df.iloc[tests]\n",
    "\n",
    "test_df['county_name'].value_counts() / test_df['county_name'].value_counts().sum()"
   ]
  },
  {
   "cell_type": "code",
   "execution_count": 39,
   "metadata": {},
   "outputs": [
    {
     "data": {
      "image/png": "[encoded data removed]",
      "text/plain": [
       "<Figure size 432x288 with 1 Axes>"
      ]
     },
     "metadata": {
      "needs_background": "light"
     },
     "output_type": "display_data"
    }
   ],
   "source": [
    "test_df['county_name'].value_counts().plot.barh()\n",
    "plt.show()"
   ]
  }
 ],
 "metadata": {
  "kernelspec": {
   "display_name": "Python 3.10.0 64-bit",
   "language": "python",
   "name": "python3"
  },
  "language_info": {
   "codemirror_mode": {
    "name": "ipython",
    "version": 3
   },
   "file_extension": ".py",
   "mimetype": "text/x-python",
   "name": "python",
   "nbconvert_exporter": "python",
   "pygments_lexer": "ipython3",
   "version": "3.10.0"
  },
  "orig_nbformat": 4,
  "vscode": {
   "interpreter": {
    "hash": "3b308b6a188fbd30bc3e9afa324c64e101458d03b7a34680eb2ab70d5c131b52"
   }
  }
 },
 "nbformat": 4,
 "nbformat_minor": 2
}
