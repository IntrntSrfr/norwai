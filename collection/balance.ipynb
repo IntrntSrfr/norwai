{
 "cells": [
  {
   "cell_type": "code",
   "execution_count": 18,
   "metadata": {},
   "outputs": [],
   "source": [
    "import os\n",
    "import pandas as pd\n",
    "import matplotlib.pyplot as plt\n",
    "import numpy as np\n",
    "import pathlib\n",
    "import shutil\n",
    "from tqdm import tqdm"
   ]
  },
  {
   "cell_type": "code",
   "execution_count": 2,
   "metadata": {},
   "outputs": [
    {
     "data": {
      "text/html": [
       "<div>\n",
       "<style scoped>\n",
       "    .dataframe tbody tr th:only-of-type {\n",
       "        vertical-align: middle;\n",
       "    }\n",
       "\n",
       "    .dataframe tbody tr th {\n",
       "        vertical-align: top;\n",
       "    }\n",
       "\n",
       "    .dataframe thead th {\n",
       "        text-align: right;\n",
       "    }\n",
       "</style>\n",
       "<table border=\"1\" class=\"dataframe\">\n",
       "  <thead>\n",
       "    <tr style=\"text-align: right;\">\n",
       "      <th></th>\n",
       "      <th>lat</th>\n",
       "      <th>lng</th>\n",
       "      <th>county</th>\n",
       "      <th>county_name</th>\n",
       "      <th>angle</th>\n",
       "      <th>filename</th>\n",
       "    </tr>\n",
       "  </thead>\n",
       "  <tbody>\n",
       "    <tr>\n",
       "      <th>0</th>\n",
       "      <td>63.501095</td>\n",
       "      <td>10.963767</td>\n",
       "      <td>4</td>\n",
       "      <td>trøndelag</td>\n",
       "      <td>281</td>\n",
       "      <td>00001_0.jpg</td>\n",
       "    </tr>\n",
       "    <tr>\n",
       "      <th>2</th>\n",
       "      <td>69.122734</td>\n",
       "      <td>17.315359</td>\n",
       "      <td>1</td>\n",
       "      <td>troms og finnmark</td>\n",
       "      <td>320</td>\n",
       "      <td>00002_0.jpg</td>\n",
       "    </tr>\n",
       "    <tr>\n",
       "      <th>4</th>\n",
       "      <td>59.740894</td>\n",
       "      <td>10.419207</td>\n",
       "      <td>7</td>\n",
       "      <td>viken</td>\n",
       "      <td>226</td>\n",
       "      <td>00003_0.jpg</td>\n",
       "    </tr>\n",
       "    <tr>\n",
       "      <th>5</th>\n",
       "      <td>59.740894</td>\n",
       "      <td>10.419207</td>\n",
       "      <td>7</td>\n",
       "      <td>viken</td>\n",
       "      <td>46</td>\n",
       "      <td>00003_1.jpg</td>\n",
       "    </tr>\n",
       "    <tr>\n",
       "      <th>7</th>\n",
       "      <td>58.329872</td>\n",
       "      <td>7.205114</td>\n",
       "      <td>0</td>\n",
       "      <td>agder</td>\n",
       "      <td>116</td>\n",
       "      <td>00004_1.jpg</td>\n",
       "    </tr>\n",
       "  </tbody>\n",
       "</table>\n",
       "</div>"
      ],
      "text/plain": [
       "         lat        lng  county        county_name  angle     filename\n",
       "0  63.501095  10.963767       4          trøndelag    281  00001_0.jpg\n",
       "2  69.122734  17.315359       1  troms og finnmark    320  00002_0.jpg\n",
       "4  59.740894  10.419207       7              viken    226  00003_0.jpg\n",
       "5  59.740894  10.419207       7              viken     46  00003_1.jpg\n",
       "7  58.329872   7.205114       0              agder    116  00004_1.jpg"
      ]
     },
     "execution_count": 2,
     "metadata": {},
     "output_type": "execute_result"
    }
   ],
   "source": [
    "df = pd.read_csv('./data/data.csv')\n",
    "files = os.listdir('./data/images')\n",
    "df = df[df['filename'].isin(files)]\n",
    "df.head()"
   ]
  },
  {
   "cell_type": "code",
   "execution_count": 94,
   "metadata": {},
   "outputs": [
    {
     "name": "stdout",
     "output_type": "stream",
     "text": [
      "5250\n"
     ]
    },
    {
     "data": {
      "text/html": [
       "<div>\n",
       "<style scoped>\n",
       "    .dataframe tbody tr th:only-of-type {\n",
       "        vertical-align: middle;\n",
       "    }\n",
       "\n",
       "    .dataframe tbody tr th {\n",
       "        vertical-align: top;\n",
       "    }\n",
       "\n",
       "    .dataframe thead th {\n",
       "        text-align: right;\n",
       "    }\n",
       "</style>\n",
       "<table border=\"1\" class=\"dataframe\">\n",
       "  <thead>\n",
       "    <tr style=\"text-align: right;\">\n",
       "      <th></th>\n",
       "      <th>lat</th>\n",
       "      <th>lng</th>\n",
       "      <th>county</th>\n",
       "      <th>county_name</th>\n",
       "      <th>angle</th>\n",
       "      <th>filename</th>\n",
       "    </tr>\n",
       "  </thead>\n",
       "  <tbody>\n",
       "    <tr>\n",
       "      <th>0</th>\n",
       "      <td>63.501095</td>\n",
       "      <td>10.963767</td>\n",
       "      <td>4</td>\n",
       "      <td>trøndelag</td>\n",
       "      <td>281</td>\n",
       "      <td>00001_0.jpg</td>\n",
       "    </tr>\n",
       "    <tr>\n",
       "      <th>1</th>\n",
       "      <td>69.122734</td>\n",
       "      <td>17.315359</td>\n",
       "      <td>1</td>\n",
       "      <td>troms og finnmark</td>\n",
       "      <td>320</td>\n",
       "      <td>00002_0.jpg</td>\n",
       "    </tr>\n",
       "    <tr>\n",
       "      <th>2</th>\n",
       "      <td>59.740894</td>\n",
       "      <td>10.419207</td>\n",
       "      <td>7</td>\n",
       "      <td>viken</td>\n",
       "      <td>226</td>\n",
       "      <td>00003_0.jpg</td>\n",
       "    </tr>\n",
       "    <tr>\n",
       "      <th>3</th>\n",
       "      <td>59.740894</td>\n",
       "      <td>10.419207</td>\n",
       "      <td>7</td>\n",
       "      <td>viken</td>\n",
       "      <td>46</td>\n",
       "      <td>00003_1.jpg</td>\n",
       "    </tr>\n",
       "    <tr>\n",
       "      <th>4</th>\n",
       "      <td>58.329872</td>\n",
       "      <td>7.205114</td>\n",
       "      <td>0</td>\n",
       "      <td>agder</td>\n",
       "      <td>116</td>\n",
       "      <td>00004_1.jpg</td>\n",
       "    </tr>\n",
       "  </tbody>\n",
       "</table>\n",
       "</div>"
      ],
      "text/plain": [
       "         lat        lng  county        county_name  angle     filename\n",
       "0  63.501095  10.963767       4          trøndelag    281  00001_0.jpg\n",
       "1  69.122734  17.315359       1  troms og finnmark    320  00002_0.jpg\n",
       "2  59.740894  10.419207       7              viken    226  00003_0.jpg\n",
       "3  59.740894  10.419207       7              viken     46  00003_1.jpg\n",
       "4  58.329872   7.205114       0              agder    116  00004_1.jpg"
      ]
     },
     "execution_count": 94,
     "metadata": {},
     "output_type": "execute_result"
    },
    {
     "data": {
      "image/png": "[encoded data removed]",
      "text/plain": [
       "<Figure size 640x480 with 1 Axes>"
      ]
     },
     "metadata": {},
     "output_type": "display_data"
    }
   ],
   "source": [
    "df_groups = df.groupby('county')\n",
    "min_amt = df_groups.size().min()\n",
    "df_balanced = df_groups.head(min_amt).reset_index(drop=True)\n",
    "print(len(df_balanced))\n",
    "df_balanced['county'].value_counts().plot.bar()\n",
    "df_balanced.head()"
   ]
  },
  {
   "cell_type": "code",
   "execution_count": 147,
   "metadata": {},
   "outputs": [
    {
     "name": "stdout",
     "output_type": "stream",
     "text": [
      "4462\n",
      "788\n"
     ]
    },
    {
     "data": {
      "text/plain": [
       "\" \\nfor i, row in tqdm(train_df.iterrows(), total=len(train_df)):\\n  src = pathlib.Path('./data/images') / row['filename']\\n  dst = pathlib.Path('./data/NSVD/train') / row['filename']\\n  shutil.copy(src, dst)\\n\\nfor i, row in tqdm(test_df.iterrows(), total=len(test_df)):\\n  src = pathlib.Path('./data/images') / row['filename']\\n  dst = pathlib.Path('./data/NSVD/test') / row['filename']\\n  shutil.copy(src, dst)\\n\\n   \""
      ]
     },
     "execution_count": 147,
     "metadata": {},
     "output_type": "execute_result"
    },
    {
     "data": {
      "image/png": "[encoded data removed]",
      "text/plain": [
       "<Figure size 640x480 with 1 Axes>"
      ]
     },
     "metadata": {},
     "output_type": "display_data"
    }
   ],
   "source": [
    "train_idxs = np.random.choice(range(len(df_balanced)), int(len(df_balanced)*0.85), replace=False)\n",
    "train_df = df_balanced.loc[df_balanced.index.isin(train_idxs)]\n",
    "test_df = df_balanced.loc[~df_balanced.index.isin(train_idxs)]\n",
    "\n",
    "print(len(train_df))\n",
    "print(len(test_df))\n",
    "\n",
    "test_df.groupby('county').size().plot.bar()\n",
    "plt.plot()\n"
   ]
  },
  {
   "cell_type": "code",
   "execution_count": 151,
   "metadata": {},
   "outputs": [
    {
     "name": "stderr",
     "output_type": "stream",
     "text": [
      "100%|██████████| 4462/4462 [01:18<00:00, 57.16it/s] \n",
      "100%|██████████| 788/788 [00:15<00:00, 49.68it/s] \n"
     ]
    }
   ],
   "source": [
    "os.makedirs('./data/NSVD_B/train', exist_ok=True)\n",
    "os.makedirs('./data/NSVD_B/test', exist_ok=True)\n",
    "\n",
    "for i, row in tqdm(train_df.iterrows(), total=len(train_df)):\n",
    "  src = pathlib.Path('./data/images') / row['filename']\n",
    "  dst = pathlib.Path('./data/NSVD_B/train') / row['filename']\n",
    "  shutil.copy(src, dst)\n",
    "\n",
    "for i, row in tqdm(test_df.iterrows(), total=len(test_df)):\n",
    "  src = pathlib.Path('./data/images') / row['filename']\n",
    "  dst = pathlib.Path('./data/NSVD_B/test') / row['filename']\n",
    "  shutil.copy(src, dst)\n",
    "\n",
    "df_balanced.to_csv('./data/NSVD_B/data.csv', index=False)"
   ]
  }
 ],
 "metadata": {
  "kernelspec": {
   "display_name": "Python 3.9.13 64-bit",
   "language": "python",
   "name": "python3"
  },
  "language_info": {
   "codemirror_mode": {
    "name": "ipython",
    "version": 3
   },
   "file_extension": ".py",
   "mimetype": "text/x-python",
   "name": "python",
   "nbconvert_exporter": "python",
   "pygments_lexer": "ipython3",
   "version": "3.9.13"
  },
  "orig_nbformat": 4,
  "vscode": {
   "interpreter": {
    "hash": "8c4244cf7987fbbe7205d882148aa1b0344de10458c7363ab35125567219c629"
   }
  }
 },
 "nbformat": 4,
 "nbformat_minor": 2
}
