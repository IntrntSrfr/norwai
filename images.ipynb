{
 "cells": [
  {
   "cell_type": "code",
   "execution_count": null,
   "metadata": {},
   "outputs": [],
   "source": [
    "import requests\n",
    "import json\n",
    "import random\n",
    "import numpy as np\n",
    "import matplotlib.pyplot as plt\n",
    "from PIL import Image\n",
    "\n",
    "key = \"STREETVIEW API GOES HERE\"\n",
    "\n",
    "with open('./data/locations.json', 'r') as f:\n",
    "  df = json.load(f)\n",
    "  for i, l in enumerate(df):\n",
    "    heading = random.randint(0, 359)\n",
    "    # 537 height so image can be cropped 25px to remove watermark\n",
    "    url = \"https://maps.googleapis.com/maps/api/streetview?size=512x537&location={},{}&fov=90&heading={}&key={}\".format(l['lat'], l['lng'], heading, key)\n",
    "    print(l, heading)\n",
    "    try:\n",
    "      img = Image.open(requests.get(url, stream=True).raw)\n",
    "      img = img.crop((0, 0, 512, 512))\n",
    "      img.save('./data/images/{:04d}.jpg'.format(i+1))\n",
    "    except:\n",
    "      print('failed', i)\n",
    "      continue\n"
   ]
  }
 ],
 "metadata": {
  "kernelspec": {
   "display_name": "Python 3.9.13 ('env': venv)",
   "language": "python",
   "name": "python3"
  },
  "language_info": {
   "codemirror_mode": {
    "name": "ipython",
    "version": 3
   },
   "file_extension": ".py",
   "mimetype": "text/x-python",
   "name": "python",
   "nbconvert_exporter": "python",
   "pygments_lexer": "ipython3",
   "version": "3.9.13"
  },
  "orig_nbformat": 4,
  "vscode": {
   "interpreter": {
    "hash": "5a915a9b286e094c84d330a2e9ba2b140db170c18b681eab1569d3ae5e96a8e3"
   }
  }
 },
 "nbformat": 4,
 "nbformat_minor": 2
}
