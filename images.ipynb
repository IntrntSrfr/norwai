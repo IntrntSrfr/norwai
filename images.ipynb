{
 "cells": [
  {
   "cell_type": "code",
   "execution_count": null,
   "metadata": {},
   "outputs": [],
   "source": [
    "import requests\n",
    "import json\n",
    "import random\n",
    "import numpy as np\n",
    "import matplotlib.pyplot as plt\n",
    "from PIL import Image\n",
    "\n",
    "key = \"STREETVIEW API GOES HERE\"\n",
    "\n",
    "with open('./data/locations.json', 'r') as f:\n",
    "  df = json.load(f)\n",
    "  for i, l in enumerate(df):\n",
    "    heading = random.randint(0, 359)\n",
    "    # 537 height so image can be cropped 25px to remove watermark\n",
    "    url = \"https://maps.googleapis.com/maps/api/streetview?size=512x537&location={},{}&fov=90&heading={}&key={}\".format(l['lat'], l['lng'], heading, key)\n",
    "    print(l, heading)\n",
    "    #r = requests.get(url, stream=True)\n",
    "    #print(r.text)\n",
    "    #if r.status_code != 200:\n",
    "    #  continue\n",
    "    try:\n",
    "      img = Image.open(requests.get(url, stream=True).raw)\n",
    "      img = img.crop((0, 0, 512, 512))\n",
    "      img.save('./data/images/{:04d}.jpg'.format(i+1))\n",
    "    except:\n",
    "      print('failed', i)\n",
    "      continue\n",
    "\n",
    "    #img_data = np.asarray(img).transpose(2, 0, 1)\n",
    "    #dataset.append(img_data.flatten().tolist())\n",
    "\n",
    "    #plt.imshow(img_data.transpose(1, 2, 0))\n",
    "    #plt.axis('off')\n",
    "    #print(img_data.shape)\n",
    "    #print(img_data)"
   ]
  },
  {
   "cell_type": "code",
   "execution_count": null,
   "metadata": {},
   "outputs": [],
   "source": [
    "''' \n",
    "dataset = np.array(dataset)\n",
    "print(dataset.shape)\n",
    "print(dataset)\n",
    "dataset.tofile('./data/streetview')\n",
    " '''"
   ]
  }
 ],
 "metadata": {
  "kernelspec": {
   "display_name": "Python 3.10.0 64-bit",
   "language": "python",
   "name": "python3"
  },
  "language_info": {
   "codemirror_mode": {
    "name": "ipython",
    "version": 3
   },
   "file_extension": ".py",
   "mimetype": "text/x-python",
   "name": "python",
   "nbconvert_exporter": "python",
   "pygments_lexer": "ipython3",
   "version": "3.10.0"
  },
  "orig_nbformat": 4,
  "vscode": {
   "interpreter": {
    "hash": "3b308b6a188fbd30bc3e9afa324c64e101458d03b7a34680eb2ab70d5c131b52"
   }
  }
 },
 "nbformat": 4,
 "nbformat_minor": 2
}
