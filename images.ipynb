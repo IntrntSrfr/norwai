{
 "cells": [
  {
   "cell_type": "code",
   "execution_count": null,
   "metadata": {},
   "outputs": [],
   "source": [
    "import requests\n",
    "import json\n",
    "import random\n",
    "import numpy as np\n",
    "import matplotlib.pyplot as plt\n",
    "from PIL import Image\n",
    "\n",
    "key = \"STREETVIEW API GOES HERE\"\n",
    "\n",
    "with open('./data/locations.json', 'r') as f:\n",
    "  df = json.load(f)\n",
    "  for i, l in enumerate(df):\n",
    "    heading = random.randint(0, 359)\n",
    "    # 537 height so image can be cropped 25px to remove watermark\n",
    "    url = \"https://maps.googleapis.com/maps/api/streetview?size=512x537&location={},{}&fov=90&heading={}&key={}\".format(l['lat'], l['lng'], heading, key)\n",
    "    print(l, heading)\n",
    "    try:\n",
    "      img = Image.open(requests.get(url, stream=True).raw)\n",
    "      img = img.crop((0, 0, 512, 512))\n",
    "      img.save('./data/images/{:04d}.jpg'.format(i+1))\n",
    "    except:\n",
    "      print('failed', i)\n",
    "      continue\n"
   ]
  }
 ],
 "metadata": {
  "kernelspec": {
   "display_name": "Python 3.10.0 ('venv': venv)",
   "language": "python",
   "name": "python3"
  },
  "language_info": {
   "codemirror_mode": {
    "name": "ipython",
    "version": 3
   },
   "file_extension": ".py",
   "mimetype": "text/x-python",
   "name": "python",
   "nbconvert_exporter": "python",
   "pygments_lexer": "ipython3",
   "version": "3.10.0"
  },
  "orig_nbformat": 4,
  "vscode": {
   "interpreter": {
    "hash": "12b66bae28511dc24c9a43e36efc24b45fc57a3b6fb93db3e5712a1381df1aa4"
   }
  }
 },
 "nbformat": 4,
 "nbformat_minor": 2
}
