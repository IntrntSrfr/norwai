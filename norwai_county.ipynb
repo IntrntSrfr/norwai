{
 "cells": [
  {
   "cell_type": "code",
   "execution_count": null,
   "metadata": {},
   "outputs": [],
   "source": [
    "import torch\n",
    "from torch import nn \n",
    "import numpy as np\n",
    "import matplotlib.pyplot as plt\n",
    "from nsvd import NSVD_COUNTY\n",
    "\n",
    "device = torch.device(\"cuda\" if torch.cuda.is_available() else \"cpu\")\n",
    "print(\"device:\", device)"
   ]
  },
  {
   "cell_type": "code",
   "execution_count": null,
   "metadata": {},
   "outputs": [],
   "source": [
    "train = NSVD_COUNTY()\n",
    "\n",
    "train_inputs = train.data.to(device)\n",
    "train_targets = train.targets.to(device)\n",
    "\n",
    "mean = train_inputs.mean()\n",
    "std = train_inputs.std()\n",
    "train_inputs = (train_inputs - mean) / std\n",
    "\n",
    "batch_size = 36\n",
    "train_input_batches = torch.split(train_inputs, batch_size)\n",
    "train_target_batches = torch.split(train_targets, batch_size)\n",
    "\n",
    "print(train_input_batches[0].shape)\n",
    "print(train_target_batches[0].shape)\n",
    "print(train_targets)"
   ]
  },
  {
   "cell_type": "code",
   "execution_count": null,
   "metadata": {},
   "outputs": [],
   "source": [
    "print(train_targets.dtype)"
   ]
  },
  {
   "cell_type": "code",
   "execution_count": null,
   "metadata": {},
   "outputs": [],
   "source": [
    "fig, axs = plt.subplots(1, 3)\n",
    "\n",
    "for i, ax in enumerate(axs.ravel()):\n",
    "  d = train_inputs[i] * std + mean\n",
    "  ax.imshow(d.int().cpu().detach().numpy().transpose(1, 2, 0))"
   ]
  },
  {
   "cell_type": "code",
   "execution_count": null,
   "metadata": {},
   "outputs": [],
   "source": [
    "class ConvModule(nn.Module):\n",
    "  def __init__(self, in_features, out_features) -> None:\n",
    "    super(ConvModule, self).__init__()\n",
    "    self.conv = nn.Conv2d(in_features, out_features, 5, padding=2)\n",
    "    self.norm = nn.BatchNorm2d(out_features)\n",
    "\n",
    "  def forward(self, x) -> torch.Tensor:\n",
    "    x = self.norm(self.conv(x))\n",
    "    return torch.relu(x)\n",
    "\n",
    "class NSVDModel(nn.Module):\n",
    "  def __init__(self) -> None:\n",
    "    super(NSVDModel, self).__init__()\n",
    "    self.pool = nn.MaxPool2d(2)\n",
    "    self.conv1 = ConvModule(3, 64)\n",
    "    self.conv2 = ConvModule(64, 128)\n",
    "    self.conv3 = ConvModule(128, 256)\n",
    "    self.l1 = nn.Linear(256*8*8, 512)\n",
    "    self.l2 = nn.Linear(512, 11)\n",
    "    \n",
    "  def forward(self, x):\n",
    "    x = self.pool(self.conv1(x)) # 128 -> 64\n",
    "    x = self.pool(self.conv2(x)) # 64 -> 32\n",
    "    x = self.pool(self.conv3(x)) # 32 -> 16\n",
    "    x = x.reshape(-1, 256*8*8)\n",
    "    x = torch.relu(self.l1(x))\n",
    "    x = self.l2(x)\n",
    "    return torch.log_softmax(x, dim=1)"
   ]
  },
  {
   "cell_type": "code",
   "execution_count": null,
   "metadata": {},
   "outputs": [],
   "source": [
    "model = NSVDModel()\n",
    "model.to(device)\n",
    "\n",
    "loss_fn = nn.CrossEntropyLoss()\n",
    "optimizer = torch.optim.Adam(model.parameters(), lr=0.001)"
   ]
  },
  {
   "cell_type": "code",
   "execution_count": null,
   "metadata": {},
   "outputs": [],
   "source": [
    "epochs = 10\n",
    "for epoch in range(epochs):\n",
    "  epoch_loss = 0\n",
    "  for batch in range(len(train_input_batches)):\n",
    "    y = model(train_input_batches[batch])\n",
    "    loss = loss_fn(y, train_target_batches[batch])\n",
    "    loss.backward()\n",
    "    optimizer.step()\n",
    "    optimizer.zero_grad()\n",
    "    epoch_loss += loss\n",
    "  print(\"epoch: {}; loss: {}\".format(epoch, epoch_loss/len(train_input_batches)))"
   ]
  }
 ],
 "metadata": {
  "kernelspec": {
   "display_name": "Python 3.10.0 ('venv': venv)",
   "language": "python",
   "name": "python3"
  },
  "language_info": {
   "codemirror_mode": {
    "name": "ipython",
    "version": 3
   },
   "file_extension": ".py",
   "mimetype": "text/x-python",
   "name": "python",
   "nbconvert_exporter": "python",
   "pygments_lexer": "ipython3",
   "version": "3.10.0"
  },
  "orig_nbformat": 4,
  "vscode": {
   "interpreter": {
    "hash": "12b66bae28511dc24c9a43e36efc24b45fc57a3b6fb93db3e5712a1381df1aa4"
   }
  }
 },
 "nbformat": 4,
 "nbformat_minor": 2
}
