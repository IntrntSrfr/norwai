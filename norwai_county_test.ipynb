{
 "cells": [
  {
   "cell_type": "code",
   "execution_count": null,
   "metadata": {},
   "outputs": [],
   "source": [
    "import torch\n",
    "from torch import nn\n",
    "import numpy as np\n",
    "import pandas as pd\n",
    "import matplotlib.pyplot as plt\n",
    "from nsvd import NSVD\n",
    "from norwai_county_test import CNN, ConvModule\n",
    "import geopandas as gpd\n",
    "\n",
    "device = torch.device(\"cuda\" if torch.cuda.is_available() else \"cpu\")\n",
    "print(\"device:\", device)"
   ]
  },
  {
   "cell_type": "code",
   "execution_count": null,
   "metadata": {},
   "outputs": [],
   "source": [
    "test_images = [{'file':'0001', 'loc':[69.6876088,23.5747422]}]\n",
    "test_im = np.random.choice(test_images, 1)[0]\n",
    "\n",
    "from PIL import Image\n",
    "\n",
    "im = Image.open('../../data/test_images/{}.png'.format(test_im['file'])).convert('RGB')\n",
    "w, h = im.size\n",
    "left = int((w - 512)/2)\n",
    "top = int((h - 512)/2)\n",
    "right = int((w + 512)/2)\n",
    "bottom = int((h + 512)/2)\n",
    "\n",
    "im = im.crop((left, top, right, bottom)).resize((256, 256))\n",
    "im_data = torch.tensor(np.asarray(im).transpose(2, 0, 1))\n",
    "\n",
    "plt.imshow(im_data.int().numpy().transpose(1, 2, 0))\n",
    "plt.show()"
   ]
  },
  {
   "cell_type": "code",
   "execution_count": null,
   "metadata": {},
   "outputs": [],
   "source": [
    "print(im_data)"
   ]
  },
  {
   "cell_type": "code",
   "execution_count": null,
   "metadata": {},
   "outputs": [],
   "source": [
    "mean = 135.4867 # fix this\n",
    "std = 64.0806 # fix this\n",
    "im_data = im_data.to(device)\n",
    "im_data = (im_data - mean) / std\n",
    "\n",
    "model = torch.load('./data/model_classification')\n",
    "model.to(device)\n",
    "\n",
    "guessed_county = None\n",
    "with torch.no_grad():\n",
    "  #y = model(im_data.unsqueeze(0)).flatten()\n",
    "  y = model(im_data.unsqueeze(0)).flatten()\n",
    "  \n",
    "  #guessed_county = y.argmax().item()\n",
    "  #print(guessed_county)\n",
    "\n",
    "  print(torch.exp(y))\n",
    "  guessed_county = torch.argmax(torch.exp(y)).item()\n"
   ]
  },
  {
   "cell_type": "markdown",
   "metadata": {},
   "source": [
    "tensor([-2.7660, -4.7697, -0.9924, -2.6751, -4.7380, -4.6915, -3.9974, -1.0149,\n",
    "        -3.5734, -3.2383, -3.7712], device='cuda:0')\n",
    "\n",
    "        tensor([0.0229, 0.0040, 0.1579, 0.0185, 0.0032, 0.0243, 0.0349, 0.4960, 0.0541,\n",
    "        0.1400, 0.0442], device='cuda:0')"
   ]
  },
  {
   "cell_type": "code",
   "execution_count": null,
   "metadata": {},
   "outputs": [],
   "source": [
    "df = pd.read_json(\"./data/norge.geojson\")\n",
    "fylker = df[\"administrative_enheter.fylke\"][\"features\"]"
   ]
  },
  {
   "cell_type": "code",
   "execution_count": null,
   "metadata": {},
   "outputs": [],
   "source": [
    "import folium\n",
    "\n",
    "real_loc = test_im['loc']\n",
    "FYLKESNUMMER_INDEX = [42, 3, 54, 15, 38, 50, 11, 34, 30, 18, 46]\n",
    "\n",
    "fylke = None\n",
    "\n",
    "for f in fylker:\n",
    "    if int(f[\"properties\"][\"fylkesnummer\"]) == FYLKESNUMMER_INDEX[guessed_county]:\n",
    "        print(\"found\")\n",
    "        fylke = f\n",
    "        break\n"
   ]
  },
  {
   "cell_type": "code",
   "execution_count": null,
   "metadata": {},
   "outputs": [],
   "source": [
    "print(fylke[\"properties\"][\"fylkesnummer\"])"
   ]
  },
  {
   "cell_type": "code",
   "execution_count": null,
   "metadata": {},
   "outputs": [],
   "source": [
    "gdf = gpd.GeoDataFrame.from_features([fylke])"
   ]
  },
  {
   "cell_type": "code",
   "execution_count": null,
   "metadata": {},
   "outputs": [],
   "source": [
    "print(fylke)"
   ]
  },
  {
   "cell_type": "code",
   "execution_count": null,
   "metadata": {},
   "outputs": [],
   "source": [
    "#gdf = gpd.GeoDataFrame.from_features(fylker)\n",
    "#sim_geo = gpd.GeoSeries(fylke['geometry']).simplify(tolerance=0.001)\n",
    "#geo_j = sim_geo.to_json()\n",
    "gdf = gdf.set_crs(epsg=25833)\n",
    "gdf = gdf.to_crs(epsg=4326)\n",
    "geo_j = folium.GeoJson(data=gdf[\"geometry\"][0],\n",
    "    style_function=lambda x: {'fillColor': 'orange'})\n",
    "\n",
    "\n",
    "m = folium.Map((64.9701, 13.509217), zoom_start=4)\n",
    "\n",
    "\n",
    "geo_j.add_to(m)\n",
    "folium.CircleMarker(location=(real_loc[0], real_loc[1]), tooltip='real', radius=1, color='#0080bb', fill_color='#0080bb').add_to(m)\n",
    "m"
   ]
  }
 ],
 "metadata": {
  "kernelspec": {
   "display_name": "Python 3.9.13 ('env': venv)",
   "language": "python",
   "name": "python3"
  },
  "language_info": {
   "codemirror_mode": {
    "name": "ipython",
    "version": 3
   },
   "file_extension": ".py",
   "mimetype": "text/x-python",
   "name": "python",
   "nbconvert_exporter": "python",
   "pygments_lexer": "ipython3",
   "version": "3.9.13"
  },
  "orig_nbformat": 4,
  "vscode": {
   "interpreter": {
    "hash": "5a915a9b286e094c84d330a2e9ba2b140db170c18b681eab1569d3ae5e96a8e3"
   }
  }
 },
 "nbformat": 4,
 "nbformat_minor": 2
}
