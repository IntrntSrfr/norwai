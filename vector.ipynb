{
 "cells": [
  {
   "cell_type": "code",
   "execution_count": 1,
   "metadata": {},
   "outputs": [],
   "source": [
    "import numpy as np"
   ]
  },
  {
   "cell_type": "code",
   "execution_count": 39,
   "metadata": {},
   "outputs": [],
   "source": [
    "def weighted_centroid(points, weights):\n",
    "    res = points\n",
    "    while len(res) > 1:\n",
    "        new_res = []\n",
    "        new_weights = []\n",
    "        for i in range(0,len(res),2):\n",
    "            p1 = res[i]\n",
    "            p2 = res[i+1]\n",
    "            w1 = weights[i]\n",
    "            w2 = weights[i+1]\n",
    "            \n",
    "            vector = np.array(p2) - np.array(p1)\n",
    "            #length = np.linalg.norm(vector)\n",
    "            \n",
    "            percentage = w1 / (w1 + w2)\n",
    "            p = p1 + percentage*vector\n",
    "\n",
    "            new_res.append(p)\n",
    "            new_weights.append(w1 + w2)\n",
    "        res = new_res\n",
    "        weights = new_weights\n",
    "    return res"
   ]
  },
  {
   "cell_type": "code",
   "execution_count": 40,
   "metadata": {},
   "outputs": [
    {
     "data": {
      "text/plain": [
       "array([2, 0])"
      ]
     },
     "execution_count": 40,
     "metadata": {},
     "output_type": "execute_result"
    }
   ],
   "source": [
    "p1 = (-1, 0)\n",
    "p2 = (1, 0)\n",
    "\n",
    "vector = np.array(p2) - np.array(p1)\n",
    "\n",
    "vector"
   ]
  },
  {
   "cell_type": "code",
   "execution_count": 44,
   "metadata": {},
   "outputs": [
    {
     "name": "stdout",
     "output_type": "stream",
     "text": [
      "[(-1, 0), (1, 0)]\n",
      "0.5\n",
      "[0. 0.]\n"
     ]
    },
    {
     "data": {
      "text/plain": [
       "[array([0., 0.])]"
      ]
     },
     "execution_count": 44,
     "metadata": {},
     "output_type": "execute_result"
    }
   ],
   "source": [
    "p4 = weighted_centroid([p1, p2], [0.4, 0.4])\n",
    "p4"
   ]
  },
  {
   "cell_type": "code",
   "execution_count": 32,
   "metadata": {},
   "outputs": [
    {
     "data": {
      "text/plain": [
       "2.0"
      ]
     },
     "execution_count": 32,
     "metadata": {},
     "output_type": "execute_result"
    }
   ],
   "source": [
    "# length of vector\n",
    "length = np.linalg.norm(vector)\n",
    "length"
   ]
  },
  {
   "cell_type": "code",
   "execution_count": 33,
   "metadata": {},
   "outputs": [
    {
     "data": {
      "text/plain": [
       "array([1., 0.])"
      ]
     },
     "execution_count": 33,
     "metadata": {},
     "output_type": "execute_result"
    }
   ],
   "source": [
    "#normalize the vecotor\n",
    "vector = vector / length\n",
    "vector"
   ]
  },
  {
   "cell_type": "code",
   "execution_count": 34,
   "metadata": {},
   "outputs": [
    {
     "data": {
      "text/plain": [
       "array([0.2, 0. ])"
      ]
     },
     "execution_count": 34,
     "metadata": {},
     "output_type": "execute_result"
    }
   ],
   "source": [
    "#get point at 60%\n",
    "p = p1 + length*0.6*vector\n",
    "\n",
    "p"
   ]
  }
 ],
 "metadata": {
  "kernelspec": {
   "display_name": "Python 3.9.13 64-bit",
   "language": "python",
   "name": "python3"
  },
  "language_info": {
   "codemirror_mode": {
    "name": "ipython",
    "version": 3
   },
   "file_extension": ".py",
   "mimetype": "text/x-python",
   "name": "python",
   "nbconvert_exporter": "python",
   "pygments_lexer": "ipython3",
   "version": "3.9.13"
  },
  "orig_nbformat": 4,
  "vscode": {
   "interpreter": {
    "hash": "8c4244cf7987fbbe7205d882148aa1b0344de10458c7363ab35125567219c629"
   }
  }
 },
 "nbformat": 4,
 "nbformat_minor": 2
}
